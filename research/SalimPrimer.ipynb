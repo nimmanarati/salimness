{
 "cells": [
  {
   "cell_type": "markdown",
   "metadata": {},
   "source": [
    "# Classify `Salim` using a simple deep NLP\n",
    "I will try to get text embeddings of tweet then using distance-based to give prob. if tweet is salim."
   ]
  },
  {
   "cell_type": "markdown",
   "metadata": {},
   "source": [
    "## dataset\n",
    "Here is using Natch's dataset 25/10/2020. For info see <https://github.com/nimmanarati/awesome-data-science>"
   ]
  },
  {
   "cell_type": "code",
   "execution_count": 1,
   "metadata": {},
   "outputs": [],
   "source": [
    "from pathlib import Path\n",
    "\n",
    "dir_store = Path('datasets') / \"natch\""
   ]
  },
  {
   "cell_type": "code",
   "execution_count": 2,
   "metadata": {},
   "outputs": [],
   "source": [
    "import pandas as pd\n",
    "df = pd.read_csv(dir_store / \"WeLoveTheKing.csv\")"
   ]
  },
  {
   "source": [
    "## quick EDA"
   ],
   "cell_type": "markdown",
   "metadata": {}
  },
  {
   "cell_type": "code",
   "execution_count": 7,
   "metadata": {},
   "outputs": [
    {
     "output_type": "execute_result",
     "data": {
      "text/plain": [
       "   Unnamed: 0            id  conversation_id     created_at  \\\n",
       "0        1466  1.319119e+18     1.319119e+18  1603337449000   \n",
       "1        3547  1.318902e+18     1.318902e+18  1603285654000   \n",
       "2        7547  1.318812e+18     1.318812e+18  1603264144000   \n",
       "3        7595  1.318810e+18     1.318810e+18  1603263893000   \n",
       "4        7798  1.318807e+18     1.318807e+18  1603262992000   \n",
       "\n",
       "                  date  timezone  place  \\\n",
       "0  2020-10-22 10:30:49       700    NaN   \n",
       "1  2020-10-21 20:07:34       700    NaN   \n",
       "2  2020-10-21 14:09:04       700    NaN   \n",
       "3  2020-10-21 14:04:53       700    NaN   \n",
       "4  2020-10-21 13:49:52       700    NaN   \n",
       "\n",
       "                                               tweet  label language  ...  \\\n",
       "0  ท่าทีของกลุ่มที่ชูป้ายความดีสำเร็จรูป #เรารักส...    0.0       th  ...   \n",
       "1  ท่องคาถา​ #เรารักสถาบันพระมหากษัตริย์ แล้วชูภา...    0.0       th  ...   \n",
       "2  หากชาว​แนวทาง​ #เรารักสถาบันพระมหากษัตริย์ สละ...    0.0       th  ...   \n",
       "3  ข้อเสนอ​ปฏิรูป​สถาบัน​ฯ ที่จะชักชวนชาวแนวทาง​ ...    0.0       th  ...   \n",
       "4  แนวทาง​ #เรารักสถาบันพระมหากษัตริย์ ควรยินดีกั...    0.0       th  ...   \n",
       "\n",
       "  friends_count listed_count favourites_count statuses_count  \\\n",
       "0          1569          112            17430         103210   \n",
       "1          1569          112            17430         103210   \n",
       "2          1569          112            17430         103210   \n",
       "3          1569          112            17430         103210   \n",
       "4          1569          112            17430         103210   \n",
       "\n",
       "       created_at_user                            profile_image_url_https  \\\n",
       "0  2007-10-21 23:55:18  https://pbs.twimg.com/profile_images/109536683...   \n",
       "1  2007-10-21 23:55:18  https://pbs.twimg.com/profile_images/109536683...   \n",
       "2  2007-10-21 23:55:18  https://pbs.twimg.com/profile_images/109536683...   \n",
       "3  2007-10-21 23:55:18  https://pbs.twimg.com/profile_images/109536683...   \n",
       "4  2007-10-21 23:55:18  https://pbs.twimg.com/profile_images/109536683...   \n",
       "\n",
       "  default_profile default_profile_image Unnamed: 50 Unnamed: 51  \n",
       "0           FALSE                 FALSE         NaN         NaN  \n",
       "1           FALSE                 FALSE         NaN         NaN  \n",
       "2           FALSE                 FALSE         NaN         NaN  \n",
       "3           FALSE                 FALSE         NaN         NaN  \n",
       "4           FALSE                 FALSE         NaN         NaN  \n",
       "\n",
       "[5 rows x 52 columns]"
      ],
      "text/html": "<div>\n<style scoped>\n    .dataframe tbody tr th:only-of-type {\n        vertical-align: middle;\n    }\n\n    .dataframe tbody tr th {\n        vertical-align: top;\n    }\n\n    .dataframe thead th {\n        text-align: right;\n    }\n</style>\n<table border=\"1\" class=\"dataframe\">\n  <thead>\n    <tr style=\"text-align: right;\">\n      <th></th>\n      <th>Unnamed: 0</th>\n      <th>id</th>\n      <th>conversation_id</th>\n      <th>created_at</th>\n      <th>date</th>\n      <th>timezone</th>\n      <th>place</th>\n      <th>tweet</th>\n      <th>label</th>\n      <th>language</th>\n      <th>...</th>\n      <th>friends_count</th>\n      <th>listed_count</th>\n      <th>favourites_count</th>\n      <th>statuses_count</th>\n      <th>created_at_user</th>\n      <th>profile_image_url_https</th>\n      <th>default_profile</th>\n      <th>default_profile_image</th>\n      <th>Unnamed: 50</th>\n      <th>Unnamed: 51</th>\n    </tr>\n  </thead>\n  <tbody>\n    <tr>\n      <th>0</th>\n      <td>1466</td>\n      <td>1.319119e+18</td>\n      <td>1.319119e+18</td>\n      <td>1603337449000</td>\n      <td>2020-10-22 10:30:49</td>\n      <td>700</td>\n      <td>NaN</td>\n      <td>ท่าทีของกลุ่มที่ชูป้ายความดีสำเร็จรูป #เรารักส...</td>\n      <td>0.0</td>\n      <td>th</td>\n      <td>...</td>\n      <td>1569</td>\n      <td>112</td>\n      <td>17430</td>\n      <td>103210</td>\n      <td>2007-10-21 23:55:18</td>\n      <td>https://pbs.twimg.com/profile_images/109536683...</td>\n      <td>FALSE</td>\n      <td>FALSE</td>\n      <td>NaN</td>\n      <td>NaN</td>\n    </tr>\n    <tr>\n      <th>1</th>\n      <td>3547</td>\n      <td>1.318902e+18</td>\n      <td>1.318902e+18</td>\n      <td>1603285654000</td>\n      <td>2020-10-21 20:07:34</td>\n      <td>700</td>\n      <td>NaN</td>\n      <td>ท่องคาถา​ #เรารักสถาบันพระมหากษัตริย์ แล้วชูภา...</td>\n      <td>0.0</td>\n      <td>th</td>\n      <td>...</td>\n      <td>1569</td>\n      <td>112</td>\n      <td>17430</td>\n      <td>103210</td>\n      <td>2007-10-21 23:55:18</td>\n      <td>https://pbs.twimg.com/profile_images/109536683...</td>\n      <td>FALSE</td>\n      <td>FALSE</td>\n      <td>NaN</td>\n      <td>NaN</td>\n    </tr>\n    <tr>\n      <th>2</th>\n      <td>7547</td>\n      <td>1.318812e+18</td>\n      <td>1.318812e+18</td>\n      <td>1603264144000</td>\n      <td>2020-10-21 14:09:04</td>\n      <td>700</td>\n      <td>NaN</td>\n      <td>หากชาว​แนวทาง​ #เรารักสถาบันพระมหากษัตริย์ สละ...</td>\n      <td>0.0</td>\n      <td>th</td>\n      <td>...</td>\n      <td>1569</td>\n      <td>112</td>\n      <td>17430</td>\n      <td>103210</td>\n      <td>2007-10-21 23:55:18</td>\n      <td>https://pbs.twimg.com/profile_images/109536683...</td>\n      <td>FALSE</td>\n      <td>FALSE</td>\n      <td>NaN</td>\n      <td>NaN</td>\n    </tr>\n    <tr>\n      <th>3</th>\n      <td>7595</td>\n      <td>1.318810e+18</td>\n      <td>1.318810e+18</td>\n      <td>1603263893000</td>\n      <td>2020-10-21 14:04:53</td>\n      <td>700</td>\n      <td>NaN</td>\n      <td>ข้อเสนอ​ปฏิรูป​สถาบัน​ฯ ที่จะชักชวนชาวแนวทาง​ ...</td>\n      <td>0.0</td>\n      <td>th</td>\n      <td>...</td>\n      <td>1569</td>\n      <td>112</td>\n      <td>17430</td>\n      <td>103210</td>\n      <td>2007-10-21 23:55:18</td>\n      <td>https://pbs.twimg.com/profile_images/109536683...</td>\n      <td>FALSE</td>\n      <td>FALSE</td>\n      <td>NaN</td>\n      <td>NaN</td>\n    </tr>\n    <tr>\n      <th>4</th>\n      <td>7798</td>\n      <td>1.318807e+18</td>\n      <td>1.318807e+18</td>\n      <td>1603262992000</td>\n      <td>2020-10-21 13:49:52</td>\n      <td>700</td>\n      <td>NaN</td>\n      <td>แนวทาง​ #เรารักสถาบันพระมหากษัตริย์ ควรยินดีกั...</td>\n      <td>0.0</td>\n      <td>th</td>\n      <td>...</td>\n      <td>1569</td>\n      <td>112</td>\n      <td>17430</td>\n      <td>103210</td>\n      <td>2007-10-21 23:55:18</td>\n      <td>https://pbs.twimg.com/profile_images/109536683...</td>\n      <td>FALSE</td>\n      <td>FALSE</td>\n      <td>NaN</td>\n      <td>NaN</td>\n    </tr>\n  </tbody>\n</table>\n<p>5 rows × 52 columns</p>\n</div>"
     },
     "metadata": {},
     "execution_count": 7
    }
   ],
   "source": [
    "df.head()"
   ]
  },
  {
   "cell_type": "code",
   "execution_count": 6,
   "metadata": {},
   "outputs": [
    {
     "output_type": "execute_result",
     "data": {
      "text/plain": [
       "True"
      ]
     },
     "metadata": {},
     "execution_count": 6
    }
   ],
   "source": [
    "all(pd.isna(df.place))"
   ]
  },
  {
   "source": [
    "place columns all na 🤷‍♂️"
   ],
   "cell_type": "markdown",
   "metadata": {}
  },
  {
   "cell_type": "code",
   "execution_count": 11,
   "metadata": {},
   "outputs": [
    {
     "output_type": "execute_result",
     "data": {
      "text/plain": [
       "True     3922\n",
       "False    2176\n",
       "Name: quote_url, dtype: int64"
      ]
     },
     "metadata": {},
     "execution_count": 11
    }
   ],
   "source": [
    "pd.isna(df.quote_url).value_counts()"
   ]
  },
  {
   "source": [
    "Many of them are original. not just a retweet. 😍"
   ],
   "cell_type": "markdown",
   "metadata": {}
  },
  {
   "cell_type": "code",
   "execution_count": 12,
   "metadata": {},
   "outputs": [
    {
     "output_type": "execute_result",
     "data": {
      "text/plain": [
       "1.0    70\n",
       "0.0    18\n",
       "Name: label, dtype: int64"
      ]
     },
     "metadata": {},
     "execution_count": 12
    }
   ],
   "source": [
    "df.label.value_counts()"
   ]
  },
  {
   "cell_type": "code",
   "execution_count": 27,
   "metadata": {},
   "outputs": [],
   "source": [
    "df_selected = (df\n",
    "    .pipe(lambda d: d[pd.isna(d.quote_url)])\n",
    "    .pipe(lambda d: d[[\"tweet\", \"label\"]])\n",
    "    .dropna(subset=[\"label\"])\n",
    ")"
   ]
  },
  {
   "cell_type": "code",
   "execution_count": 28,
   "metadata": {},
   "outputs": [
    {
     "output_type": "execute_result",
     "data": {
      "text/plain": [
       "(57, 2)"
      ]
     },
     "metadata": {},
     "execution_count": 28
    }
   ],
   "source": [
    "df_selected.shape"
   ]
  },
  {
   "cell_type": "code",
   "execution_count": 29,
   "metadata": {},
   "outputs": [
    {
     "output_type": "execute_result",
     "data": {
      "text/plain": [
       "1.0    42\n",
       "0.0    15\n",
       "Name: label, dtype: int64"
      ]
     },
     "metadata": {},
     "execution_count": 29
    }
   ],
   "source": [
    "df_selected.label.value_counts()"
   ]
  },
  {
   "cell_type": "code",
   "execution_count": 17,
   "metadata": {},
   "outputs": [],
   "source": [
    "df_selected.to_csv(dir_store / 'selected.csv')"
   ]
  },
  {
   "source": [
    "export to scan thru."
   ],
   "cell_type": "markdown",
   "metadata": {}
  },
  {
   "cell_type": "code",
   "execution_count": null,
   "metadata": {},
   "outputs": [],
   "source": []
  }
 ],
 "metadata": {
  "kernelspec": {
   "display_name": "Python 3",
   "language": "python",
   "name": "python3"
  },
  "language_info": {
   "codemirror_mode": {
    "name": "ipython",
    "version": 3
   },
   "file_extension": ".py",
   "mimetype": "text/x-python",
   "name": "python",
   "nbconvert_exporter": "python",
   "pygments_lexer": "ipython3",
   "version": "3.8.3-final"
  }
 },
 "nbformat": 4,
 "nbformat_minor": 4
}